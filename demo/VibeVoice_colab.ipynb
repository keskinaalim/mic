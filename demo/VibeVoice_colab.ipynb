{
  "cells": [
    {
      "cell_type": "markdown",
      "source": [
        "# VibeVoice Colab — T4 Quickstart (1.5B)\n",
        "This page provides a quickstart guide to run VibeVoice on Colab with T4.\n",
        "\n",
        "T4 only support 1.5B model due to GPU memory. For the real WOW TTS experience, please try the 7B model on a stronger GPU.\n"
      ],
      "metadata": {
        "id": "AHLptWHtQmw-"
      },
      "id": "AHLptWHtQmw-"
    },
    {
      "cell_type": "markdown",
      "source": [
        "## Step 1: Use T4\n",
        "\n"
      ],
      "metadata": {
        "id": "vzwhx5AtQ37g"
      },
      "id": "vzwhx5AtQ37g"
    },
    {
      "cell_type": "markdown",
      "source": [
        "Use T4 in Colab: go to Runtime → Change runtime type → Hardware accelerator: GPU → T4."
      ],
      "metadata": {
        "id": "ryxffqxlVbbP"
      },
      "id": "ryxffqxlVbbP"
    },
    {
      "cell_type": "code",
      "source": [
        "import torch\n",
        "print(torch.cuda.is_available())\n",
        "!nvidia-smi"
      ],
      "metadata": {
        "id": "Hek0yZKdVot_"
      },
      "id": "Hek0yZKdVot_",
      "execution_count": null,
      "outputs": []
    },
    {
      "cell_type": "markdown",
      "source": [
        "## Step 2: Env Install"
      ],
      "metadata": {
        "id": "S8D9WNSvWFwy"
      },
      "id": "S8D9WNSvWFwy"
    },
    {
      "cell_type": "code",
      "source": [
        "!git clone https://github.com/keskinaalim/mic.git\n",
        "\n",
        "import os\n",
        "os.chdir(\"./VibeVoice\")\n",
        "\n",
        "!apt update && apt install ffmpeg -y\n",
        "!pip install -e ."
      ],
      "metadata": {
        "id": "2xGbc7gKMD7A"
      },
      "id": "2xGbc7gKMD7A",
      "execution_count": null,
      "outputs": []
    },
    {
      "cell_type": "markdown",
      "source": [
        "## Step 3: Run VibeVoice"
      ],
      "metadata": {
        "id": "YmxjRFSFW4aE"
      },
      "id": "YmxjRFSFW4aE"
    },
    {
      "cell_type": "markdown",
      "source": [
        "### Create your own example"
      ],
      "metadata": {
        "id": "Pd6-KX2Hdswx"
      },
      "id": "Pd6-KX2Hdswx"
    },
    {
      "cell_type": "code",
      "source": [
        "!sed -i 's/attn_implementation=\"flash_attention_2\"/attn_implementation=\"sdpa\"/g' demo/gradio_demo.py\n",
        "!python demo/gradio_demo.py --model_path microsoft/VibeVoice-1.5B --share"
      ],
      "metadata": {
        "id": "W51xt8TMefbR"
      },
      "id": "W51xt8TMefbR",
      "execution_count": null,
      "outputs": []
    }
  ],
  "metadata": {
    "colab": {
      "provenance": [],
      "gpuType": "T4"
    },
    "kernelspec": {
      "display_name": "Python 3",
      "name": "python3"
    },
    "language_info": {
      "codemirror_mode": {
        "name": "ipython",
        "version": 3
      },
      "file_extension": ".py",
      "mimetype": "text/x-python",
      "name": "python",
      "nbconvert_exporter": "python",
      "pygments_lexer": "ipython3",
      "version": "3.10.11"
    },
    "accelerator": "GPU"
  },
  "nbformat": 4,
  "nbformat_minor": 5
}